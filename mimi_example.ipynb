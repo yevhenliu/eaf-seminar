{
 "cells": [
  {
   "cell_type": "code",
   "execution_count": null,
   "id": "3c243e84",
   "metadata": {},
   "outputs": [],
   "source": [
    "import librosa\n",
    "import torch\n",
    "\n",
    "target_sample_rate = 24000\n",
    "\n",
    "input_audio, orig_sample_rate = librosa.load(\"justin-master-class.wav\")\n",
    "input_audio = librosa.resample(\n",
    "    input_audio, orig_sr=orig_sample_rate, target_sr=target_sample_rate\n",
    ")\n",
    "input_audio = torch.Tensor(input_audio)"
   ]
  },
  {
   "cell_type": "code",
   "execution_count": null,
   "id": "9f6f8d0d",
   "metadata": {},
   "outputs": [],
   "source": [
    "input_audio.shape"
   ]
  },
  {
   "cell_type": "code",
   "execution_count": null,
   "id": "d4beb5b4",
   "metadata": {},
   "outputs": [],
   "source": [
    "import numpy as np\n",
    "from IPython.display import Audio\n",
    "\n",
    "Audio(input_audio, rate=target_sample_rate)"
   ]
  },
  {
   "cell_type": "code",
   "execution_count": null,
   "id": "89a5af80",
   "metadata": {},
   "outputs": [],
   "source": [
    "input_audio.shape"
   ]
  },
  {
   "cell_type": "code",
   "execution_count": null,
   "id": "7ca12f7b",
   "metadata": {},
   "outputs": [],
   "source": [
    "from transformers import MimiModel\n",
    "\n",
    "\n",
    "model = MimiModel.from_pretrained(\"kyutai/mimi\")\n",
    "\n",
    "with torch.no_grad():\n",
    "    tokens = model.encode(input_audio[None, None, :]).audio_codes"
   ]
  },
  {
   "cell_type": "code",
   "execution_count": null,
   "id": "69b0c1bc",
   "metadata": {},
   "outputs": [],
   "source": [
    "tokens = tokens.flip(-1)"
   ]
  },
  {
   "cell_type": "code",
   "execution_count": null,
   "id": "b6a57f9f",
   "metadata": {},
   "outputs": [],
   "source": [
    "with torch.no_grad():\n",
    "    embeddings = model.quantizer.decode(tokens)\n",
    "\n",
    "    # Do weird things here\n",
    "    # bias = torch.randn(1, embeddings.shape[1], 1) * 3\n",
    "    # embeddings += bias\n",
    "\n",
    "    # noise = torch.randn(1, embeddings.shape[1], embeddings.shape[2]) * 3\n",
    "    # embeddings += noise\n",
    "\n",
    "    # embeddings *= -1\n",
    "\n",
    "    decoder_outputs = model.decoder_transformer(\n",
    "        model.upsample(embeddings).transpose(1, 2), return_dict=False\n",
    "    )\n",
    "    embeddings = decoder_outputs[0].transpose(1, 2)\n",
    "    audio_values = model.decoder(embeddings)"
   ]
  },
  {
   "cell_type": "code",
   "execution_count": null,
   "id": "104f3b57",
   "metadata": {},
   "outputs": [],
   "source": [
    "import numpy as np\n",
    "from IPython.display import Audio\n",
    "\n",
    "Audio(audio_values.numpy()[0], rate=target_sample_rate)"
   ]
  },
  {
   "cell_type": "code",
   "execution_count": null,
   "id": "ad13c8e5",
   "metadata": {},
   "outputs": [],
   "source": []
  },
  {
   "cell_type": "code",
   "execution_count": null,
   "id": "8ff41015-6f79-453a-916b-595f6fe1c567",
   "metadata": {},
   "outputs": [],
   "source": []
  },
  {
   "cell_type": "code",
   "execution_count": null,
   "id": "f94b6c75-206e-4ed0-a777-26cad66eaebd",
   "metadata": {},
   "outputs": [],
   "source": []
  },
  {
   "cell_type": "code",
   "execution_count": null,
   "id": "c47dc001-61ec-441c-861b-abcfddd8b044",
   "metadata": {},
   "outputs": [],
   "source": []
  },
  {
   "cell_type": "code",
   "execution_count": null,
   "id": "e628f1b5-27f2-4b26-a712-2bca6b7f7a34",
   "metadata": {},
   "outputs": [],
   "source": []
  },
  {
   "cell_type": "code",
   "execution_count": null,
   "id": "f9ddd7da-5d02-4a30-9b04-46e19f3237d7",
   "metadata": {},
   "outputs": [],
   "source": []
  },
  {
   "cell_type": "code",
   "execution_count": null,
   "id": "ea299f1d-7681-4d79-88d0-f86daff5e015",
   "metadata": {},
   "outputs": [],
   "source": []
  }
 ],
 "metadata": {
  "kernelspec": {
   "display_name": "Python 3 (ipykernel)",
   "language": "python",
   "name": "python3"
  },
  "language_info": {
   "codemirror_mode": {
    "name": "ipython",
    "version": 3
   },
   "file_extension": ".py",
   "mimetype": "text/x-python",
   "name": "python",
   "nbconvert_exporter": "python",
   "pygments_lexer": "ipython3",
   "version": "3.9.21"
  }
 },
 "nbformat": 4,
 "nbformat_minor": 5
}
