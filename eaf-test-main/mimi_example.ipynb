{
 "cells": [
  {
   "cell_type": "code",
   "execution_count": 2,
   "id": "127caa63-188d-41f5-8055-9da5e9d92abe",
   "metadata": {},
   "outputs": [
    {
     "name": "stdout",
     "output_type": "stream",
     "text": [
      "Defaulting to user installation because normal site-packages is not writeable\n",
      "Collecting librosa\n",
      "  Downloading librosa-0.11.0-py3-none-any.whl (260 kB)\n",
      "     |████████████████████████████████| 260 kB 3.3 MB/s            \n",
      "\u001b[?25hCollecting pooch>=1.1\n",
      "  Downloading pooch-1.8.2-py3-none-any.whl (64 kB)\n",
      "     |████████████████████████████████| 64 kB 2.4 MB/s             \n",
      "\u001b[?25hCollecting numba>=0.51.0\n",
      "  Downloading numba-0.60.0-cp39-cp39-manylinux2014_x86_64.manylinux_2_17_x86_64.whl (3.7 MB)\n",
      "     |████████████████████████████████| 3.7 MB 26.3 MB/s            \n",
      "\u001b[?25hRequirement already satisfied: decorator>=4.3.0 in /usr/lib/python3.9/site-packages (from librosa) (4.4.2)\n",
      "Collecting soundfile>=0.12.1\n",
      "  Downloading soundfile-0.13.1-py2.py3-none-manylinux_2_28_x86_64.whl (1.3 MB)\n",
      "     |████████████████████████████████| 1.3 MB 89.4 MB/s            \n",
      "\u001b[?25hRequirement already satisfied: scipy>=1.6.0 in /usr/lib64/python3.9/site-packages (from librosa) (1.9.3)\n",
      "Collecting audioread>=2.1.9\n",
      "  Downloading audioread-3.0.1-py3-none-any.whl (23 kB)\n",
      "Collecting soxr>=0.3.2\n",
      "  Downloading soxr-1.0.0-cp39-cp39-manylinux_2_27_x86_64.manylinux_2_28_x86_64.whl (242 kB)\n",
      "     |████████████████████████████████| 242 kB 109.5 MB/s            \n",
      "\u001b[?25hRequirement already satisfied: numpy>=1.22.3 in /usr/lib64/python3.9/site-packages (from librosa) (1.23.5)\n",
      "Requirement already satisfied: msgpack>=1.0 in /usr/lib64/python3.9/site-packages (from librosa) (1.0.3)\n",
      "Collecting scikit-learn>=1.1.0\n",
      "  Downloading scikit_learn-1.6.1-cp39-cp39-manylinux_2_17_x86_64.manylinux2014_x86_64.whl (13.5 MB)\n",
      "     |████████████████████████████████| 13.5 MB 60.4 MB/s            \n",
      "\u001b[?25hCollecting lazy_loader>=0.1\n",
      "  Downloading lazy_loader-0.4-py3-none-any.whl (12 kB)\n",
      "Requirement already satisfied: typing_extensions>=4.1.1 in /usr/local/lib/python3.9/site-packages (from librosa) (4.9.0)\n",
      "Collecting joblib>=1.0\n",
      "  Downloading joblib-1.5.2-py3-none-any.whl (308 kB)\n",
      "     |████████████████████████████████| 308 kB 107.2 MB/s            \n",
      "\u001b[?25hRequirement already satisfied: packaging in /usr/local/lib/python3.9/site-packages (from lazy_loader>=0.1->librosa) (23.2)\n",
      "Collecting llvmlite<0.44,>=0.43.0dev0\n",
      "  Downloading llvmlite-0.43.0-cp39-cp39-manylinux_2_17_x86_64.manylinux2014_x86_64.whl (43.9 MB)\n",
      "     |████████████████████████████████| 43.9 MB 99.9 MB/s            \n",
      "\u001b[?25hRequirement already satisfied: requests>=2.19.0 in /usr/local/lib/python3.9/site-packages (from pooch>=1.1->librosa) (2.31.0)\n",
      "Requirement already satisfied: platformdirs>=2.5.0 in /usr/local/lib/python3.9/site-packages (from pooch>=1.1->librosa) (4.2.0)\n",
      "Collecting threadpoolctl>=3.1.0\n",
      "  Downloading threadpoolctl-3.6.0-py3-none-any.whl (18 kB)\n",
      "Requirement already satisfied: cffi>=1.0 in /usr/local/lib64/python3.9/site-packages (from soundfile>=0.12.1->librosa) (1.16.0)\n",
      "Requirement already satisfied: pycparser in /usr/local/lib/python3.9/site-packages (from cffi>=1.0->soundfile>=0.12.1->librosa) (2.21)\n",
      "Requirement already satisfied: idna<4,>=2.5 in /usr/local/lib/python3.9/site-packages (from requests>=2.19.0->pooch>=1.1->librosa) (3.6)\n",
      "Requirement already satisfied: urllib3<3,>=1.21.1 in /usr/local/lib/python3.9/site-packages (from requests>=2.19.0->pooch>=1.1->librosa) (2.2.0)\n",
      "Requirement already satisfied: certifi>=2017.4.17 in /usr/local/lib/python3.9/site-packages (from requests>=2.19.0->pooch>=1.1->librosa) (2024.2.2)\n",
      "Requirement already satisfied: charset-normalizer<4,>=2 in /usr/local/lib64/python3.9/site-packages (from requests>=2.19.0->pooch>=1.1->librosa) (3.3.2)\n",
      "Installing collected packages: threadpoolctl, llvmlite, joblib, soxr, soundfile, scikit-learn, pooch, numba, lazy-loader, audioread, librosa\n",
      "Successfully installed audioread-3.0.1 joblib-1.5.2 lazy-loader-0.4 librosa-0.11.0 llvmlite-0.43.0 numba-0.60.0 pooch-1.8.2 scikit-learn-1.6.1 soundfile-0.13.1 soxr-1.0.0 threadpoolctl-3.6.0\n",
      "Defaulting to user installation because normal site-packages is not writeable\n",
      "Collecting torch\n",
      "  Downloading torch-2.8.0-cp39-cp39-manylinux_2_28_x86_64.whl (888.0 MB)\n",
      "     |████████████████████████████████| 888.0 MB 7.4 kB/s             \n",
      "\u001b[?25hCollecting fsspec\n",
      "  Downloading fsspec-2025.9.0-py3-none-any.whl (199 kB)\n",
      "     |████████████████████████████████| 199 kB 23.4 MB/s            \n",
      "\u001b[?25hCollecting typing-extensions>=4.10.0\n",
      "  Downloading typing_extensions-4.15.0-py3-none-any.whl (44 kB)\n",
      "     |████████████████████████████████| 44 kB 1.6 MB/s             \n",
      "\u001b[?25hRequirement already satisfied: jinja2 in /usr/local/lib/python3.9/site-packages (from torch) (3.1.3)\n",
      "Collecting nvidia-nvtx-cu12==12.8.90\n",
      "  Downloading nvidia_nvtx_cu12-12.8.90-py3-none-manylinux2014_x86_64.manylinux_2_17_x86_64.whl (89 kB)\n",
      "     |████████████████████████████████| 89 kB 6.2 MB/s             \n",
      "\u001b[?25hCollecting filelock\n",
      "  Downloading filelock-3.19.1-py3-none-any.whl (15 kB)\n",
      "Collecting nvidia-cudnn-cu12==9.10.2.21\n",
      "  Downloading nvidia_cudnn_cu12-9.10.2.21-py3-none-manylinux_2_27_x86_64.whl (706.8 MB)\n",
      "     |████████████████████████████████| 706.8 MB 29 kB/s              \n",
      "\u001b[?25hCollecting nvidia-nccl-cu12==2.27.3\n",
      "  Downloading nvidia_nccl_cu12-2.27.3-py3-none-manylinux2014_x86_64.manylinux_2_17_x86_64.whl (322.4 MB)\n",
      "     |████████████████████████████████| 322.4 MB 80 kB/s              \n",
      "\u001b[?25hCollecting triton==3.4.0\n",
      "  Downloading triton-3.4.0-cp39-cp39-manylinux_2_27_x86_64.manylinux_2_28_x86_64.whl (155.4 MB)\n",
      "     |████████████████████████████████| 155.4 MB 2.5 MB/s             \n",
      "\u001b[?25hCollecting sympy>=1.13.3\n",
      "  Downloading sympy-1.14.0-py3-none-any.whl (6.3 MB)\n",
      "     |████████████████████████████████| 6.3 MB 68.5 MB/s            \n",
      "\u001b[?25hCollecting nvidia-cusparselt-cu12==0.7.1\n",
      "  Downloading nvidia_cusparselt_cu12-0.7.1-py3-none-manylinux2014_x86_64.whl (287.2 MB)\n",
      "     |████████████████████████████████| 287.2 MB 23 kB/s              \n",
      "\u001b[?25hCollecting nvidia-cuda-runtime-cu12==12.8.90\n",
      "  Downloading nvidia_cuda_runtime_cu12-12.8.90-py3-none-manylinux2014_x86_64.manylinux_2_17_x86_64.whl (954 kB)\n",
      "     |████████████████████████████████| 954 kB 94.6 MB/s            \n",
      "\u001b[?25hCollecting networkx\n",
      "  Downloading networkx-3.2.1-py3-none-any.whl (1.6 MB)\n",
      "     |████████████████████████████████| 1.6 MB 148.0 MB/s            \n",
      "\u001b[?25hCollecting nvidia-cublas-cu12==12.8.4.1\n",
      "  Downloading nvidia_cublas_cu12-12.8.4.1-py3-none-manylinux_2_27_x86_64.whl (594.3 MB)\n",
      "     |████████████████████████████████| 594.3 MB 62 kB/s              \n",
      "\u001b[?25hCollecting nvidia-nvjitlink-cu12==12.8.93\n",
      "  Downloading nvidia_nvjitlink_cu12-12.8.93-py3-none-manylinux2010_x86_64.manylinux_2_12_x86_64.whl (39.3 MB)\n",
      "     |████████████████████████████████| 39.3 MB 84.3 MB/s            \n",
      "\u001b[?25hCollecting nvidia-curand-cu12==10.3.9.90\n",
      "  Downloading nvidia_curand_cu12-10.3.9.90-py3-none-manylinux_2_27_x86_64.whl (63.6 MB)\n",
      "     |████████████████████████████████| 63.6 MB 30.4 MB/s            \n",
      "\u001b[?25hCollecting nvidia-cuda-nvrtc-cu12==12.8.93\n",
      "  Downloading nvidia_cuda_nvrtc_cu12-12.8.93-py3-none-manylinux2010_x86_64.manylinux_2_12_x86_64.whl (88.0 MB)\n",
      "     |████████████████████████████████| 88.0 MB 370 kB/s             \n",
      "\u001b[?25hCollecting nvidia-cusolver-cu12==11.7.3.90\n",
      "  Downloading nvidia_cusolver_cu12-11.7.3.90-py3-none-manylinux_2_27_x86_64.whl (267.5 MB)\n",
      "     |████████████████████████████████| 267.5 MB 134 kB/s             \n",
      "\u001b[?25hCollecting nvidia-cufft-cu12==11.3.3.83\n",
      "  Downloading nvidia_cufft_cu12-11.3.3.83-py3-none-manylinux2014_x86_64.manylinux_2_17_x86_64.whl (193.1 MB)\n",
      "     |████████████████████████████████| 193.1 MB 33.6 MB/s            \n",
      "\u001b[?25hCollecting nvidia-cufile-cu12==1.13.1.3\n",
      "  Downloading nvidia_cufile_cu12-1.13.1.3-py3-none-manylinux2014_x86_64.manylinux_2_17_x86_64.whl (1.2 MB)\n",
      "     |████████████████████████████████| 1.2 MB 32.7 MB/s            \n",
      "\u001b[?25hCollecting nvidia-cusparse-cu12==12.5.8.93\n",
      "  Downloading nvidia_cusparse_cu12-12.5.8.93-py3-none-manylinux2014_x86_64.manylinux_2_17_x86_64.whl (288.2 MB)\n",
      "     |████████████████████████████████| 288.2 MB 18 kB/s              \n",
      "\u001b[?25hCollecting nvidia-cuda-cupti-cu12==12.8.90\n",
      "  Downloading nvidia_cuda_cupti_cu12-12.8.90-py3-none-manylinux2014_x86_64.manylinux_2_17_x86_64.whl (10.2 MB)\n",
      "     |████████████████████████████████| 10.2 MB 71.5 MB/s            \n",
      "\u001b[?25hRequirement already satisfied: setuptools>=40.8.0 in /usr/lib/python3.9/site-packages (from triton==3.4.0->torch) (53.0.0)\n",
      "Requirement already satisfied: importlib-metadata in /usr/local/lib/python3.9/site-packages (from triton==3.4.0->torch) (7.0.1)\n",
      "Collecting mpmath<1.4,>=1.1.0\n",
      "  Downloading mpmath-1.3.0-py3-none-any.whl (536 kB)\n",
      "     |████████████████████████████████| 536 kB 36.8 MB/s            \n",
      "\u001b[?25hRequirement already satisfied: MarkupSafe>=2.0 in /usr/local/lib64/python3.9/site-packages (from jinja2->torch) (2.1.5)\n",
      "Requirement already satisfied: zipp>=0.5 in /usr/local/lib/python3.9/site-packages (from importlib-metadata->triton==3.4.0->torch) (3.17.0)\n",
      "Installing collected packages: nvidia-nvjitlink-cu12, nvidia-cusparse-cu12, nvidia-cublas-cu12, mpmath, typing-extensions, triton, sympy, nvidia-nvtx-cu12, nvidia-nccl-cu12, nvidia-cusparselt-cu12, nvidia-cusolver-cu12, nvidia-curand-cu12, nvidia-cufile-cu12, nvidia-cufft-cu12, nvidia-cudnn-cu12, nvidia-cuda-runtime-cu12, nvidia-cuda-nvrtc-cu12, nvidia-cuda-cupti-cu12, networkx, fsspec, filelock, torch\n",
      "\u001b[33m  WARNING: The scripts proton and proton-viewer are installed in '/home/pokornymatej3/.local/bin' which is not on PATH.\n",
      "  Consider adding this directory to PATH or, if you prefer to suppress this warning, use --no-warn-script-location.\u001b[0m\n",
      "\u001b[33m  WARNING: The script isympy is installed in '/home/pokornymatej3/.local/bin' which is not on PATH.\n",
      "  Consider adding this directory to PATH or, if you prefer to suppress this warning, use --no-warn-script-location.\u001b[0m\n",
      "\u001b[33m  WARNING: The scripts torchfrtrace and torchrun are installed in '/home/pokornymatej3/.local/bin' which is not on PATH.\n",
      "  Consider adding this directory to PATH or, if you prefer to suppress this warning, use --no-warn-script-location.\u001b[0m\n",
      "Successfully installed filelock-3.19.1 fsspec-2025.9.0 mpmath-1.3.0 networkx-3.2.1 nvidia-cublas-cu12-12.8.4.1 nvidia-cuda-cupti-cu12-12.8.90 nvidia-cuda-nvrtc-cu12-12.8.93 nvidia-cuda-runtime-cu12-12.8.90 nvidia-cudnn-cu12-9.10.2.21 nvidia-cufft-cu12-11.3.3.83 nvidia-cufile-cu12-1.13.1.3 nvidia-curand-cu12-10.3.9.90 nvidia-cusolver-cu12-11.7.3.90 nvidia-cusparse-cu12-12.5.8.93 nvidia-cusparselt-cu12-0.7.1 nvidia-nccl-cu12-2.27.3 nvidia-nvjitlink-cu12-12.8.93 nvidia-nvtx-cu12-12.8.90 sympy-1.14.0 torch-2.8.0 triton-3.4.0 typing-extensions-4.15.0\n"
     ]
    }
   ],
   "source": [
    "!pip install librosa\n",
    "!pip install torch"
   ]
  },
  {
   "cell_type": "code",
   "execution_count": 3,
   "id": "93766a38-625e-4fc6-8057-a82fb11b07e7",
   "metadata": {},
   "outputs": [],
   "source": [
    "! git config --global credential.helper store\n"
   ]
  },
  {
   "cell_type": "code",
   "execution_count": null,
   "id": "17e07dee-2459-40fb-9a6b-a79d0a85e643",
   "metadata": {},
   "outputs": [
    {
     "name": "stdout",
     "output_type": "stream",
     "text": [
      "Username for 'https://github.com': "
     ]
    }
   ],
   "source": [
    "! git push origin main\n"
   ]
  },
  {
   "cell_type": "code",
   "execution_count": null,
   "id": "7a046440-1bc3-4e9e-9164-9a9943867d73",
   "metadata": {},
   "outputs": [],
   "source": [
    "MP2024"
   ]
  },
  {
   "cell_type": "code",
   "execution_count": 1,
   "id": "3c243e84",
   "metadata": {},
   "outputs": [
    {
     "ename": "ModuleNotFoundError",
     "evalue": "No module named 'librosa'",
     "output_type": "error",
     "traceback": [
      "\u001b[0;31m---------------------------------------------------------------------------\u001b[0m",
      "\u001b[0;31mModuleNotFoundError\u001b[0m                       Traceback (most recent call last)",
      "Cell \u001b[0;32mIn[1], line 1\u001b[0m\n\u001b[0;32m----> 1\u001b[0m \u001b[38;5;28;01mimport\u001b[39;00m \u001b[38;5;21;01mlibrosa\u001b[39;00m\n\u001b[1;32m      2\u001b[0m \u001b[38;5;28;01mimport\u001b[39;00m \u001b[38;5;21;01mtorch\u001b[39;00m\n\u001b[1;32m      4\u001b[0m target_sample_rate \u001b[38;5;241m=\u001b[39m \u001b[38;5;241m24000\u001b[39m\n",
      "\u001b[0;31mModuleNotFoundError\u001b[0m: No module named 'librosa'"
     ]
    }
   ],
   "source": [
    "import librosa\n",
    "import torch\n",
    "\n",
    "target_sample_rate = 24000\n",
    "\n",
    "input_audio, orig_sample_rate = librosa.load(\"justin-master-class.wav\")\n",
    "input_audio = librosa.resample(\n",
    "    input_audio, orig_sr=orig_sample_rate, target_sr=target_sample_rate\n",
    ")\n",
    "input_audio = torch.Tensor(input_audio)"
   ]
  },
  {
   "cell_type": "code",
   "execution_count": null,
   "id": "9f6f8d0d",
   "metadata": {},
   "outputs": [],
   "source": [
    "input_audio.shape"
   ]
  },
  {
   "cell_type": "code",
   "execution_count": null,
   "id": "d4beb5b4",
   "metadata": {},
   "outputs": [],
   "source": [
    "import numpy as np\n",
    "from IPython.display import Audio\n",
    "\n",
    "Audio(input_audio, rate=target_sample_rate)"
   ]
  },
  {
   "cell_type": "code",
   "execution_count": null,
   "id": "89a5af80",
   "metadata": {},
   "outputs": [],
   "source": [
    "input_audio.shape"
   ]
  },
  {
   "cell_type": "code",
   "execution_count": null,
   "id": "7ca12f7b",
   "metadata": {},
   "outputs": [],
   "source": [
    "from transformers import MimiModel\n",
    "\n",
    "\n",
    "model = MimiModel.from_pretrained(\"kyutai/mimi\")\n",
    "\n",
    "with torch.no_grad():\n",
    "    tokens = model.encode(input_audio[None, None, :]).audio_codes"
   ]
  },
  {
   "cell_type": "code",
   "execution_count": null,
   "id": "69b0c1bc",
   "metadata": {},
   "outputs": [],
   "source": [
    "tokens = tokens.flip(-1)"
   ]
  },
  {
   "cell_type": "code",
   "execution_count": null,
   "id": "b6a57f9f",
   "metadata": {},
   "outputs": [],
   "source": [
    "with torch.no_grad():\n",
    "    embeddings = model.quantizer.decode(tokens)\n",
    "\n",
    "    # Do weird things here\n",
    "    # bias = torch.randn(1, embeddings.shape[1], 1) * 3\n",
    "    # embeddings += bias\n",
    "\n",
    "    # noise = torch.randn(1, embeddings.shape[1], embeddings.shape[2]) * 3\n",
    "    # embeddings += noise\n",
    "\n",
    "    # embeddings *= -1\n",
    "\n",
    "    decoder_outputs = model.decoder_transformer(\n",
    "        model.upsample(embeddings).transpose(1, 2), return_dict=False\n",
    "    )\n",
    "    embeddings = decoder_outputs[0].transpose(1, 2)\n",
    "    audio_values = model.decoder(embeddings)"
   ]
  },
  {
   "cell_type": "code",
   "execution_count": null,
   "id": "104f3b57",
   "metadata": {},
   "outputs": [],
   "source": [
    "import numpy as np\n",
    "from IPython.display import Audio\n",
    "\n",
    "Audio(audio_values.numpy()[0], rate=target_sample_rate)"
   ]
  },
  {
   "cell_type": "code",
   "execution_count": null,
   "id": "ad13c8e5",
   "metadata": {},
   "outputs": [],
   "source": []
  }
 ],
 "metadata": {
  "kernelspec": {
   "display_name": "Python 3 (ipykernel)",
   "language": "python",
   "name": "python3"
  },
  "language_info": {
   "codemirror_mode": {
    "name": "ipython",
    "version": 3
   },
   "file_extension": ".py",
   "mimetype": "text/x-python",
   "name": "python",
   "nbconvert_exporter": "python",
   "pygments_lexer": "ipython3",
   "version": "3.9.21"
  }
 },
 "nbformat": 4,
 "nbformat_minor": 5
}
